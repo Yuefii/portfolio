{
 "cells": [
  {
   "cell_type": "code",
   "execution_count": 4,
   "id": "873d97c9-bbd1-4375-9abd-944fa9b22e43",
   "metadata": {},
   "outputs": [
    {
     "data": {
      "text/plain": [
       "True"
      ]
     },
     "execution_count": 4,
     "metadata": {},
     "output_type": "execute_result"
    }
   ],
   "source": [
    "import psycopg2\n",
    "import subprocess\n",
    "from datetime import datetime\n",
    "from dotenv import load_dotenv\n",
    "import os\n",
    "\n",
    "os.environ['PATH'] += os.pathsep + '/usr/bin'\n",
    "load_dotenv()"
   ]
  },
  {
   "cell_type": "code",
   "execution_count": 5,
   "id": "43503a78-f516-4459-b9fd-68daf2103eac",
   "metadata": {},
   "outputs": [
    {
     "name": "stdout",
     "output_type": "stream",
     "text": [
      "Connection Database in progress, please wait...\n",
      "Successful connection to database!\n"
     ]
    }
   ],
   "source": [
    "db_name = os.getenv(\"PG_NAME\")\n",
    "user = os.getenv(\"PG_USER\")\n",
    "password = os.getenv(\"PG_PASSWORD\")\n",
    "host = os.getenv(\"PG_HOST\")\n",
    "port = os.getenv(\"PG_PORT\")\n",
    "\n",
    "conn = psycopg2.connect(dbname=db_name, user=user, password=password, host=host, port=port)\n",
    "\n",
    "print(\"Connection Database in progress, please wait...\")\n",
    "\n",
    "try:\n",
    "    conn = psycopg2.connect(dbname=db_name, user=user, password=password, host=host, port=port)\n",
    "    print(\"Successful connection to database!\")\n",
    "except psycopg2.OperationalError as e:\n",
    "    print(\"Connection to database failed:\", e)\n",
    "    exit(1)"
   ]
  },
  {
   "cell_type": "code",
   "execution_count": 12,
   "id": "e1664b1c-4974-4af3-9c17-472f42fe1b6e",
   "metadata": {},
   "outputs": [
    {
     "name": "stdin",
     "output_type": "stream",
     "text": [
      "Enter name of backup file (for example: backup_filename.sql):  railway_backup_20-October-2024-09:10.sql\n"
     ]
    },
    {
     "name": "stdout",
     "output_type": "stream",
     "text": [
      "Restore in progress, please wait...\n",
      "Backup successfully saved on railway_backup_20-October-2024-09:10.sql\n"
     ]
    }
   ],
   "source": [
    "def restore_database(backup_file, user, password, host, port):\n",
    "    command = [\n",
    "        \"/usr/bin/psql\",\n",
    "        \"-U\", user,\n",
    "        \"-h\", host,\n",
    "        \"-p\", str(port),\n",
    "        \"-d\", db_name,\n",
    "        \"-f\", backup_file\n",
    "    ]\n",
    "    \n",
    "    env = {\"PGPASSWORD\": password}\n",
    "\n",
    "    print(\"Restore in progress, please wait...\")\n",
    "    \n",
    "    try:\n",
    "        result = subprocess.run(command, check=True, env=env, stdout=open(backup_file, 'w'), stderr=subprocess.PIPE)\n",
    "        print(f\"Database successfully restored from : {backup_file}\")\n",
    "    except subprocess.CalledProcessError as e:\n",
    "        print(\"An error occurred while backing up:\", e.stderr.decode())\n",
    "        \n",
    "backup_file = input(\"Enter name of backup file (for example: backup_filename.sql): \")\n",
    "restore_database(backup_file, user, password, host, port)\n",
    "conn.close()"
   ]
  },
  {
   "cell_type": "code",
   "execution_count": null,
   "id": "52d83711-373a-42e1-828b-b7e8bfdea694",
   "metadata": {},
   "outputs": [],
   "source": []
  }
 ],
 "metadata": {
  "kernelspec": {
   "display_name": "Python 3 (ipykernel)",
   "language": "python",
   "name": "python3"
  },
  "language_info": {
   "codemirror_mode": {
    "name": "ipython",
    "version": 3
   },
   "file_extension": ".py",
   "mimetype": "text/x-python",
   "name": "python",
   "nbconvert_exporter": "python",
   "pygments_lexer": "ipython3",
   "version": "3.12.5"
  }
 },
 "nbformat": 4,
 "nbformat_minor": 5
}
