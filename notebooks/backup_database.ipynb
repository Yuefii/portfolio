{
 "cells": [
  {
   "cell_type": "code",
   "execution_count": 14,
   "id": "828a6d09-ff33-4099-bbfa-ce8631c426ed",
   "metadata": {},
   "outputs": [
    {
     "data": {
      "text/plain": [
       "True"
      ]
     },
     "execution_count": 14,
     "metadata": {},
     "output_type": "execute_result"
    }
   ],
   "source": [
    "import psycopg2\n",
    "import subprocess\n",
    "from datetime import datetime\n",
    "from dotenv import load_dotenv\n",
    "import os\n",
    "\n",
    "load_dotenv()"
   ]
  },
  {
   "cell_type": "code",
   "execution_count": 16,
   "id": "a61375a8-1c88-4e04-9e3a-be034a11a996",
   "metadata": {},
   "outputs": [
    {
     "name": "stdout",
     "output_type": "stream",
     "text": [
      "Connection Database in progress, please wait...\n",
      "Successful connection to database!\n"
     ]
    }
   ],
   "source": [
    "db_name = os.getenv(\"PG_NAME\")\n",
    "user = os.getenv(\"PG_USER\")\n",
    "password = os.getenv(\"PG_PASSWORD\")\n",
    "host = os.getenv(\"PG_HOST\")\n",
    "port = os.getenv(\"PG_PORT\")\n",
    "\n",
    "conn = psycopg2.connect(dbname=db_name, user=user, password=password, host=host, port=port)\n",
    "\n",
    "print(\"Connection Database in progress, please wait...\")\n",
    "\n",
    "try:\n",
    "    conn = psycopg2.connect(dbname=db_name, user=user, password=password, host=host, port=port)\n",
    "    print(\"Successful connection to database!\")\n",
    "except psycopg2.OperationalError as e:\n",
    "    print(\"Connection to database failed:\", e)"
   ]
  },
  {
   "cell_type": "code",
   "execution_count": 17,
   "id": "7661506a-5339-4a2c-8eb2-1b8494c195da",
   "metadata": {},
   "outputs": [
    {
     "name": "stdout",
     "output_type": "stream",
     "text": [
      "Backup in progress, please wait...\n",
      "Backup successfully saved on railway_backup_20-October-2024-09:10.sql\n"
     ]
    }
   ],
   "source": [
    "def backup_database(db_name, user, password, host, port):\n",
    "    backup_file = f\"{db_name}_backup_{datetime.now().strftime('%d-%B-%Y-%H:%M')}.sql\"\n",
    "    command = [\n",
    "        \"pg_dump\",\n",
    "        \"-U\", user,\n",
    "        \"-h\", host,\n",
    "        \"-p\", str(port),\n",
    "        db_name\n",
    "    ]\n",
    "    \n",
    "    env = {\"PGPASSWORD\": password}\n",
    "\n",
    "    print(\"Backup in progress, please wait...\")\n",
    "    \n",
    "    try:\n",
    "        subprocess.run(command, check=True, env=env, stdout=open(backup_file, 'w'), stderr=subprocess.STDOUT)\n",
    "        print(f\"Backup successfully saved on {backup_file}\")\n",
    "    except subprocess.CalledProcessError as e:\n",
    "        print(\"An error occurred while backing up:\", e)\n",
    "        \n",
    "backup_database(db_name, user, password, host, port)\n",
    "conn.close()"
   ]
  },
  {
   "cell_type": "code",
   "execution_count": null,
   "id": "b7ce5077-83ca-4038-8599-3141daaa5503",
   "metadata": {},
   "outputs": [],
   "source": []
  }
 ],
 "metadata": {
  "kernelspec": {
   "display_name": "Python 3 (ipykernel)",
   "language": "python",
   "name": "python3"
  },
  "language_info": {
   "codemirror_mode": {
    "name": "ipython",
    "version": 3
   },
   "file_extension": ".py",
   "mimetype": "text/x-python",
   "name": "python",
   "nbconvert_exporter": "python",
   "pygments_lexer": "ipython3",
   "version": "3.12.5"
  }
 },
 "nbformat": 4,
 "nbformat_minor": 5
}
